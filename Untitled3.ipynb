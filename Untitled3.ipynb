{
  "nbformat": 4,
  "nbformat_minor": 0,
  "metadata": {
    "colab": {
      "name": "Untitled3.ipynb",
      "provenance": [],
      "authorship_tag": "ABX9TyOul6OGYS0CgHbedx2izmjB",
      "include_colab_link": true
    },
    "kernelspec": {
      "name": "python3",
      "display_name": "Python 3"
    }
  },
  "cells": [
    {
      "cell_type": "markdown",
      "metadata": {
        "id": "view-in-github",
        "colab_type": "text"
      },
      "source": [
        "<a href=\"https://colab.research.google.com/github/aislinngo/Tarea-Lluvias/blob/master/Untitled3.ipynb\" target=\"_parent\"><img src=\"https://colab.research.google.com/assets/colab-badge.svg\" alt=\"Open In Colab\"/></a>"
      ]
    },
    {
      "cell_type": "code",
      "metadata": {
        "id": "gKP3Djg1LjIW",
        "outputId": "bd4f2e57-4fcf-44ff-91d8-30ea64eb51fa",
        "colab": {
          "base_uri": "https://localhost:8080/",
          "height": 255
        }
      },
      "source": [
        "def character(character):\n",
        "    t=['a','b','c','d']\n",
        "    operador =\"(\\+|\\-|\\*|/)\"\n",
        "bandera= True\n",
        "Estadoinicial = 0\n",
        "EstadoFinal = 1\n",
        "EstadoActual = E\n",
        "\n",
        "\n",
        "cadena=input (\" Ingrese una cadena a evaluar Minimo 6 caracteres :  \")\n",
        "cadena = CE\n",
        "\n",
        "if len(cadena) <6 :\n",
        "    print (\"Ingrese cadena con más caracteres\")\n",
        "\n",
        "for i in CE:\n",
        "    print(i)\n",
        "    if j in t:\n",
        "        print (\"Valido en el automata\")\n",
        "    else:\n",
        "        print(\"Cadena no pertenece al alfabeto\")\n",
        "        bandera = False\n",
        "\n",
        "\n",
        "print (\"\"\"\"Cadena Inválida para el automata\"\"\")\n",
        "\n",
        "print(\"\"\" Cadena válida para el automata \"\"\")\n",
        "\n",
        "\n"
      ],
      "execution_count": null,
      "outputs": [
        {
          "output_type": "stream",
          "text": [
            " Ingrese una cadena a evaluar Minimo 6 caracteres :  abcccc\n",
            "Ingrese cadena con más caracteres\n",
            "a\n",
            "Valido en el automata\n",
            "a\n",
            "Valido en el automata\n",
            "a\n",
            "Valido en el automata\n",
            "a\n",
            "Valido en el automata\n",
            "a\n",
            "Valido en el automata\n",
            "\"Cadena Inválida para el automata\n",
            " Cadena válida para el automata \n"
          ],
          "name": "stdout"
        }
      ]
    }
  ]
}